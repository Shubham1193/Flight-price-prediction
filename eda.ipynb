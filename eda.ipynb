{
 "cells": [
  {
   "cell_type": "markdown",
   "id": "00507a3c-c3c1-4191-962d-ae8484e187cf",
   "metadata": {},
   "source": [
    "## 1. Import Libraries"
   ]
  },
  {
   "cell_type": "code",
   "execution_count": 81,
   "id": "8686287e-924d-41b3-af98-e91a7f33f8e5",
   "metadata": {},
   "outputs": [],
   "source": [
    "import numpy as np\n",
    "\n",
    "import pandas as pd\n",
    "\n",
    "import seaborn as sns\n",
    "\n",
    "import matplotlib.pyplot as plt\n"
   ]
  },
  {
   "cell_type": "markdown",
   "id": "ff1bc3a3-e1ae-43d6-99b2-dfd3e8ce27c5",
   "metadata": {},
   "source": [
    "## 2. Read the Training Data"
   ]
  },
  {
   "cell_type": "code",
   "execution_count": 82,
   "id": "1b666dab-d468-4566-a77b-57f9ebb838f6",
   "metadata": {},
   "outputs": [
    {
     "data": {
      "text/html": [
       "<div>\n",
       "<style scoped>\n",
       "    .dataframe tbody tr th:only-of-type {\n",
       "        vertical-align: middle;\n",
       "    }\n",
       "\n",
       "    .dataframe tbody tr th {\n",
       "        vertical-align: top;\n",
       "    }\n",
       "\n",
       "    .dataframe thead th {\n",
       "        text-align: right;\n",
       "    }\n",
       "</style>\n",
       "<table border=\"1\" class=\"dataframe\">\n",
       "  <thead>\n",
       "    <tr style=\"text-align: right;\">\n",
       "      <th></th>\n",
       "      <th>airline</th>\n",
       "      <th>date_of_journey</th>\n",
       "      <th>source</th>\n",
       "      <th>destination</th>\n",
       "      <th>dep_time</th>\n",
       "      <th>arrival_time</th>\n",
       "      <th>duration</th>\n",
       "      <th>total_stops</th>\n",
       "      <th>additional_info</th>\n",
       "      <th>price</th>\n",
       "    </tr>\n",
       "  </thead>\n",
       "  <tbody>\n",
       "    <tr>\n",
       "      <th>0</th>\n",
       "      <td>Jet Airways</td>\n",
       "      <td>2019-06-21</td>\n",
       "      <td>Mumbai</td>\n",
       "      <td>Hyderabad</td>\n",
       "      <td>10:20:00</td>\n",
       "      <td>11:50:00</td>\n",
       "      <td>90</td>\n",
       "      <td>0.0</td>\n",
       "      <td>In-flight meal not included</td>\n",
       "      <td>4995</td>\n",
       "    </tr>\n",
       "    <tr>\n",
       "      <th>1</th>\n",
       "      <td>Air India</td>\n",
       "      <td>2019-05-18</td>\n",
       "      <td>Delhi</td>\n",
       "      <td>Cochin</td>\n",
       "      <td>09:00:00</td>\n",
       "      <td>07:40:00</td>\n",
       "      <td>1360</td>\n",
       "      <td>1.0</td>\n",
       "      <td>No Info</td>\n",
       "      <td>8372</td>\n",
       "    </tr>\n",
       "    <tr>\n",
       "      <th>2</th>\n",
       "      <td>Air India</td>\n",
       "      <td>2019-06-12</td>\n",
       "      <td>Kolkata</td>\n",
       "      <td>Banglore</td>\n",
       "      <td>09:10:00</td>\n",
       "      <td>11:05:00</td>\n",
       "      <td>1555</td>\n",
       "      <td>2.0</td>\n",
       "      <td>No Info</td>\n",
       "      <td>6117</td>\n",
       "    </tr>\n",
       "    <tr>\n",
       "      <th>3</th>\n",
       "      <td>Vistara</td>\n",
       "      <td>2019-04-01</td>\n",
       "      <td>Kolkata</td>\n",
       "      <td>Banglore</td>\n",
       "      <td>20:20:00</td>\n",
       "      <td>22:55:00</td>\n",
       "      <td>1595</td>\n",
       "      <td>1.0</td>\n",
       "      <td>No Info</td>\n",
       "      <td>7770</td>\n",
       "    </tr>\n",
       "    <tr>\n",
       "      <th>4</th>\n",
       "      <td>Vistara</td>\n",
       "      <td>2019-06-06</td>\n",
       "      <td>Kolkata</td>\n",
       "      <td>Banglore</td>\n",
       "      <td>17:00:00</td>\n",
       "      <td>10:45:00</td>\n",
       "      <td>1065</td>\n",
       "      <td>1.0</td>\n",
       "      <td>No Info</td>\n",
       "      <td>9187</td>\n",
       "    </tr>\n",
       "    <tr>\n",
       "      <th>...</th>\n",
       "      <td>...</td>\n",
       "      <td>...</td>\n",
       "      <td>...</td>\n",
       "      <td>...</td>\n",
       "      <td>...</td>\n",
       "      <td>...</td>\n",
       "      <td>...</td>\n",
       "      <td>...</td>\n",
       "      <td>...</td>\n",
       "      <td>...</td>\n",
       "    </tr>\n",
       "    <tr>\n",
       "      <th>635</th>\n",
       "      <td>Air Asia</td>\n",
       "      <td>2019-04-12</td>\n",
       "      <td>Banglore</td>\n",
       "      <td>Delhi</td>\n",
       "      <td>04:55:00</td>\n",
       "      <td>07:45:00</td>\n",
       "      <td>170</td>\n",
       "      <td>0.0</td>\n",
       "      <td>No Info</td>\n",
       "      <td>4282</td>\n",
       "    </tr>\n",
       "    <tr>\n",
       "      <th>636</th>\n",
       "      <td>Jet Airways</td>\n",
       "      <td>2019-05-09</td>\n",
       "      <td>Kolkata</td>\n",
       "      <td>Banglore</td>\n",
       "      <td>09:35:00</td>\n",
       "      <td>21:05:00</td>\n",
       "      <td>690</td>\n",
       "      <td>1.0</td>\n",
       "      <td>No Info</td>\n",
       "      <td>13067</td>\n",
       "    </tr>\n",
       "    <tr>\n",
       "      <th>637</th>\n",
       "      <td>Indigo</td>\n",
       "      <td>2019-05-15</td>\n",
       "      <td>Banglore</td>\n",
       "      <td>Delhi</td>\n",
       "      <td>06:05:00</td>\n",
       "      <td>08:50:00</td>\n",
       "      <td>165</td>\n",
       "      <td>0.0</td>\n",
       "      <td>No Info</td>\n",
       "      <td>4423</td>\n",
       "    </tr>\n",
       "    <tr>\n",
       "      <th>638</th>\n",
       "      <td>Multiple Carriers</td>\n",
       "      <td>2019-05-15</td>\n",
       "      <td>Delhi</td>\n",
       "      <td>Cochin</td>\n",
       "      <td>08:45:00</td>\n",
       "      <td>21:00:00</td>\n",
       "      <td>735</td>\n",
       "      <td>1.0</td>\n",
       "      <td>No Info</td>\n",
       "      <td>7670</td>\n",
       "    </tr>\n",
       "    <tr>\n",
       "      <th>639</th>\n",
       "      <td>Jet Airways</td>\n",
       "      <td>2019-05-21</td>\n",
       "      <td>Kolkata</td>\n",
       "      <td>Banglore</td>\n",
       "      <td>20:00:00</td>\n",
       "      <td>12:00:00</td>\n",
       "      <td>960</td>\n",
       "      <td>1.0</td>\n",
       "      <td>In-flight meal not included</td>\n",
       "      <td>10844</td>\n",
       "    </tr>\n",
       "  </tbody>\n",
       "</table>\n",
       "<p>640 rows × 10 columns</p>\n",
       "</div>"
      ],
      "text/plain": [
       "               airline date_of_journey    source destination  dep_time  \\\n",
       "0          Jet Airways      2019-06-21    Mumbai   Hyderabad  10:20:00   \n",
       "1            Air India      2019-05-18     Delhi      Cochin  09:00:00   \n",
       "2            Air India      2019-06-12   Kolkata    Banglore  09:10:00   \n",
       "3              Vistara      2019-04-01   Kolkata    Banglore  20:20:00   \n",
       "4              Vistara      2019-06-06   Kolkata    Banglore  17:00:00   \n",
       "..                 ...             ...       ...         ...       ...   \n",
       "635           Air Asia      2019-04-12  Banglore       Delhi  04:55:00   \n",
       "636        Jet Airways      2019-05-09   Kolkata    Banglore  09:35:00   \n",
       "637             Indigo      2019-05-15  Banglore       Delhi  06:05:00   \n",
       "638  Multiple Carriers      2019-05-15     Delhi      Cochin  08:45:00   \n",
       "639        Jet Airways      2019-05-21   Kolkata    Banglore  20:00:00   \n",
       "\n",
       "    arrival_time  duration  total_stops              additional_info  price  \n",
       "0       11:50:00        90          0.0  In-flight meal not included   4995  \n",
       "1       07:40:00      1360          1.0                      No Info   8372  \n",
       "2       11:05:00      1555          2.0                      No Info   6117  \n",
       "3       22:55:00      1595          1.0                      No Info   7770  \n",
       "4       10:45:00      1065          1.0                      No Info   9187  \n",
       "..           ...       ...          ...                          ...    ...  \n",
       "635     07:45:00       170          0.0                      No Info   4282  \n",
       "636     21:05:00       690          1.0                      No Info  13067  \n",
       "637     08:50:00       165          0.0                      No Info   4423  \n",
       "638     21:00:00       735          1.0                      No Info   7670  \n",
       "639     12:00:00       960          1.0  In-flight meal not included  10844  \n",
       "\n",
       "[640 rows x 10 columns]"
      ]
     },
     "execution_count": 82,
     "metadata": {},
     "output_type": "execute_result"
    }
   ],
   "source": [
    "file_path = \"/home/shubham/Desktop/datascience/sagemaker-flight-prices-prediction/train.csv\"\n",
    "flights = pd.read_csv(file_path)\n",
    "\n",
    "flights"
   ]
  },
  {
   "cell_type": "markdown",
   "id": "c58c529b-912a-4a69-8cbd-68424851f9fa",
   "metadata": {},
   "source": [
    "### 2.1 Fixing Data Types"
   ]
  },
  {
   "cell_type": "code",
   "execution_count": 83,
   "id": "adb4ebb6-8265-47b9-98be-172369dcbdcb",
   "metadata": {},
   "outputs": [
    {
     "data": {
      "text/plain": [
       "airline             object\n",
       "date_of_journey     object\n",
       "source              object\n",
       "destination         object\n",
       "dep_time            object\n",
       "arrival_time        object\n",
       "duration             int64\n",
       "total_stops        float64\n",
       "additional_info     object\n",
       "price                int64\n",
       "dtype: object"
      ]
     },
     "execution_count": 83,
     "metadata": {},
     "output_type": "execute_result"
    }
   ],
   "source": [
    "flights.dtypes"
   ]
  },
  {
   "cell_type": "code",
   "execution_count": 84,
   "id": "2f7a0c3d-1f53-4ac9-85bd-79783bea7b98",
   "metadata": {},
   "outputs": [
    {
     "data": {
      "text/plain": [
       "airline             object\n",
       "date_of_journey     object\n",
       "source              object\n",
       "destination         object\n",
       "dep_time            object\n",
       "arrival_time        object\n",
       "duration             int64\n",
       "total_stops        float64\n",
       "additional_info     object\n",
       "price                int64\n",
       "duration_mins        int64\n",
       "dtype: object"
      ]
     },
     "execution_count": 84,
     "metadata": {},
     "output_type": "execute_result"
    }
   ],
   "source": [
    "flights = flights.assign(**{\n",
    "\tcol: pd.to_datetime(train.loc[:, col], dayfirst=True, format=\"mixed\")\n",
    "\tfor col in [\"date_of_journey\", \"dep_time\", \"arrival_time\"]\n",
    "})\n",
    "\n",
    "train.dtypes"
   ]
  },
  {
   "cell_type": "code",
   "execution_count": 85,
   "id": "9a60f6ce-fc4d-4946-8743-0211a44dd416",
   "metadata": {},
   "outputs": [
    {
     "data": {
      "text/html": [
       "<div>\n",
       "<style scoped>\n",
       "    .dataframe tbody tr th:only-of-type {\n",
       "        vertical-align: middle;\n",
       "    }\n",
       "\n",
       "    .dataframe tbody tr th {\n",
       "        vertical-align: top;\n",
       "    }\n",
       "\n",
       "    .dataframe thead th {\n",
       "        text-align: right;\n",
       "    }\n",
       "</style>\n",
       "<table border=\"1\" class=\"dataframe\">\n",
       "  <thead>\n",
       "    <tr style=\"text-align: right;\">\n",
       "      <th></th>\n",
       "      <th>airline</th>\n",
       "      <th>date_of_journey</th>\n",
       "      <th>source</th>\n",
       "      <th>destination</th>\n",
       "      <th>dep_time</th>\n",
       "      <th>arrival_time</th>\n",
       "      <th>duration</th>\n",
       "      <th>total_stops</th>\n",
       "      <th>additional_info</th>\n",
       "      <th>price</th>\n",
       "    </tr>\n",
       "  </thead>\n",
       "  <tbody>\n",
       "    <tr>\n",
       "      <th>0</th>\n",
       "      <td>Jet Airways</td>\n",
       "      <td>2019-06-21</td>\n",
       "      <td>Mumbai</td>\n",
       "      <td>Hyderabad</td>\n",
       "      <td>2024-10-18 10:20:00</td>\n",
       "      <td>2024-10-18 11:50:00</td>\n",
       "      <td>90</td>\n",
       "      <td>0.0</td>\n",
       "      <td>In-flight meal not included</td>\n",
       "      <td>4995</td>\n",
       "    </tr>\n",
       "    <tr>\n",
       "      <th>1</th>\n",
       "      <td>Air India</td>\n",
       "      <td>2019-05-18</td>\n",
       "      <td>Delhi</td>\n",
       "      <td>Cochin</td>\n",
       "      <td>2024-10-18 09:00:00</td>\n",
       "      <td>2024-10-18 07:40:00</td>\n",
       "      <td>1360</td>\n",
       "      <td>1.0</td>\n",
       "      <td>No Info</td>\n",
       "      <td>8372</td>\n",
       "    </tr>\n",
       "    <tr>\n",
       "      <th>2</th>\n",
       "      <td>Air India</td>\n",
       "      <td>2019-06-12</td>\n",
       "      <td>Kolkata</td>\n",
       "      <td>Banglore</td>\n",
       "      <td>2024-10-18 09:10:00</td>\n",
       "      <td>2024-10-18 11:05:00</td>\n",
       "      <td>1555</td>\n",
       "      <td>2.0</td>\n",
       "      <td>No Info</td>\n",
       "      <td>6117</td>\n",
       "    </tr>\n",
       "    <tr>\n",
       "      <th>3</th>\n",
       "      <td>Vistara</td>\n",
       "      <td>2019-04-01</td>\n",
       "      <td>Kolkata</td>\n",
       "      <td>Banglore</td>\n",
       "      <td>2024-10-18 20:20:00</td>\n",
       "      <td>2024-10-18 22:55:00</td>\n",
       "      <td>1595</td>\n",
       "      <td>1.0</td>\n",
       "      <td>No Info</td>\n",
       "      <td>7770</td>\n",
       "    </tr>\n",
       "    <tr>\n",
       "      <th>4</th>\n",
       "      <td>Vistara</td>\n",
       "      <td>2019-06-06</td>\n",
       "      <td>Kolkata</td>\n",
       "      <td>Banglore</td>\n",
       "      <td>2024-10-18 17:00:00</td>\n",
       "      <td>2024-10-18 10:45:00</td>\n",
       "      <td>1065</td>\n",
       "      <td>1.0</td>\n",
       "      <td>No Info</td>\n",
       "      <td>9187</td>\n",
       "    </tr>\n",
       "    <tr>\n",
       "      <th>...</th>\n",
       "      <td>...</td>\n",
       "      <td>...</td>\n",
       "      <td>...</td>\n",
       "      <td>...</td>\n",
       "      <td>...</td>\n",
       "      <td>...</td>\n",
       "      <td>...</td>\n",
       "      <td>...</td>\n",
       "      <td>...</td>\n",
       "      <td>...</td>\n",
       "    </tr>\n",
       "    <tr>\n",
       "      <th>635</th>\n",
       "      <td>Air Asia</td>\n",
       "      <td>2019-04-12</td>\n",
       "      <td>Banglore</td>\n",
       "      <td>Delhi</td>\n",
       "      <td>2024-10-18 04:55:00</td>\n",
       "      <td>2024-10-18 07:45:00</td>\n",
       "      <td>170</td>\n",
       "      <td>0.0</td>\n",
       "      <td>No Info</td>\n",
       "      <td>4282</td>\n",
       "    </tr>\n",
       "    <tr>\n",
       "      <th>636</th>\n",
       "      <td>Jet Airways</td>\n",
       "      <td>2019-05-09</td>\n",
       "      <td>Kolkata</td>\n",
       "      <td>Banglore</td>\n",
       "      <td>2024-10-18 09:35:00</td>\n",
       "      <td>2024-10-18 21:05:00</td>\n",
       "      <td>690</td>\n",
       "      <td>1.0</td>\n",
       "      <td>No Info</td>\n",
       "      <td>13067</td>\n",
       "    </tr>\n",
       "    <tr>\n",
       "      <th>637</th>\n",
       "      <td>Indigo</td>\n",
       "      <td>2019-05-15</td>\n",
       "      <td>Banglore</td>\n",
       "      <td>Delhi</td>\n",
       "      <td>2024-10-18 06:05:00</td>\n",
       "      <td>2024-10-18 08:50:00</td>\n",
       "      <td>165</td>\n",
       "      <td>0.0</td>\n",
       "      <td>No Info</td>\n",
       "      <td>4423</td>\n",
       "    </tr>\n",
       "    <tr>\n",
       "      <th>638</th>\n",
       "      <td>Multiple Carriers</td>\n",
       "      <td>2019-05-15</td>\n",
       "      <td>Delhi</td>\n",
       "      <td>Cochin</td>\n",
       "      <td>2024-10-18 08:45:00</td>\n",
       "      <td>2024-10-18 21:00:00</td>\n",
       "      <td>735</td>\n",
       "      <td>1.0</td>\n",
       "      <td>No Info</td>\n",
       "      <td>7670</td>\n",
       "    </tr>\n",
       "    <tr>\n",
       "      <th>639</th>\n",
       "      <td>Jet Airways</td>\n",
       "      <td>2019-05-21</td>\n",
       "      <td>Kolkata</td>\n",
       "      <td>Banglore</td>\n",
       "      <td>2024-10-18 20:00:00</td>\n",
       "      <td>2024-10-18 12:00:00</td>\n",
       "      <td>960</td>\n",
       "      <td>1.0</td>\n",
       "      <td>In-flight meal not included</td>\n",
       "      <td>10844</td>\n",
       "    </tr>\n",
       "  </tbody>\n",
       "</table>\n",
       "<p>640 rows × 10 columns</p>\n",
       "</div>"
      ],
      "text/plain": [
       "               airline date_of_journey    source destination  \\\n",
       "0          Jet Airways      2019-06-21    Mumbai   Hyderabad   \n",
       "1            Air India      2019-05-18     Delhi      Cochin   \n",
       "2            Air India      2019-06-12   Kolkata    Banglore   \n",
       "3              Vistara      2019-04-01   Kolkata    Banglore   \n",
       "4              Vistara      2019-06-06   Kolkata    Banglore   \n",
       "..                 ...             ...       ...         ...   \n",
       "635           Air Asia      2019-04-12  Banglore       Delhi   \n",
       "636        Jet Airways      2019-05-09   Kolkata    Banglore   \n",
       "637             Indigo      2019-05-15  Banglore       Delhi   \n",
       "638  Multiple Carriers      2019-05-15     Delhi      Cochin   \n",
       "639        Jet Airways      2019-05-21   Kolkata    Banglore   \n",
       "\n",
       "               dep_time        arrival_time  duration  total_stops  \\\n",
       "0   2024-10-18 10:20:00 2024-10-18 11:50:00        90          0.0   \n",
       "1   2024-10-18 09:00:00 2024-10-18 07:40:00      1360          1.0   \n",
       "2   2024-10-18 09:10:00 2024-10-18 11:05:00      1555          2.0   \n",
       "3   2024-10-18 20:20:00 2024-10-18 22:55:00      1595          1.0   \n",
       "4   2024-10-18 17:00:00 2024-10-18 10:45:00      1065          1.0   \n",
       "..                  ...                 ...       ...          ...   \n",
       "635 2024-10-18 04:55:00 2024-10-18 07:45:00       170          0.0   \n",
       "636 2024-10-18 09:35:00 2024-10-18 21:05:00       690          1.0   \n",
       "637 2024-10-18 06:05:00 2024-10-18 08:50:00       165          0.0   \n",
       "638 2024-10-18 08:45:00 2024-10-18 21:00:00       735          1.0   \n",
       "639 2024-10-18 20:00:00 2024-10-18 12:00:00       960          1.0   \n",
       "\n",
       "                 additional_info  price  \n",
       "0    In-flight meal not included   4995  \n",
       "1                        No Info   8372  \n",
       "2                        No Info   6117  \n",
       "3                        No Info   7770  \n",
       "4                        No Info   9187  \n",
       "..                           ...    ...  \n",
       "635                      No Info   4282  \n",
       "636                      No Info  13067  \n",
       "637                      No Info   4423  \n",
       "638                      No Info   7670  \n",
       "639  In-flight meal not included  10844  \n",
       "\n",
       "[640 rows x 10 columns]"
      ]
     },
     "execution_count": 85,
     "metadata": {},
     "output_type": "execute_result"
    }
   ],
   "source": [
    "flights"
   ]
  },
  {
   "cell_type": "code",
   "execution_count": 42,
   "id": "48cff618-af26-40cd-923c-be6cfc84b944",
   "metadata": {},
   "outputs": [
    {
     "name": "stdout",
     "output_type": "stream",
     "text": [
      "<class 'pandas.core.frame.DataFrame'>\n",
      "RangeIndex: 640 entries, 0 to 639\n",
      "Data columns (total 11 columns):\n",
      " #   Column           Non-Null Count  Dtype         \n",
      "---  ------           --------------  -----         \n",
      " 0   airline          640 non-null    object        \n",
      " 1   date_of_journey  640 non-null    datetime64[ns]\n",
      " 2   source           640 non-null    object        \n",
      " 3   destination      640 non-null    object        \n",
      " 4   dep_time         640 non-null    datetime64[ns]\n",
      " 5   arrival_time     640 non-null    datetime64[ns]\n",
      " 6   duration         640 non-null    int64         \n",
      " 7   total_stops      640 non-null    object        \n",
      " 8   additional_info  640 non-null    object        \n",
      " 9   price            640 non-null    int64         \n",
      " 10  duration_mins    640 non-null    int64         \n",
      "dtypes: datetime64[ns](3), int64(3), object(5)\n",
      "memory usage: 55.1+ KB\n"
     ]
    }
   ],
   "source": [
    "flights.info()"
   ]
  },
  {
   "cell_type": "code",
   "execution_count": 86,
   "id": "7deb9677-133e-4ea8-9d44-0dc484caa3b7",
   "metadata": {},
   "outputs": [],
   "source": [
    "flights['total_stops'] = flights['total_stops'].astype(str)"
   ]
  },
  {
   "cell_type": "code",
   "execution_count": 87,
   "id": "3cb0473d-959c-4246-967f-f729c169ecff",
   "metadata": {},
   "outputs": [
    {
     "data": {
      "text/html": [
       "<div>\n",
       "<style scoped>\n",
       "    .dataframe tbody tr th:only-of-type {\n",
       "        vertical-align: middle;\n",
       "    }\n",
       "\n",
       "    .dataframe tbody tr th {\n",
       "        vertical-align: top;\n",
       "    }\n",
       "\n",
       "    .dataframe thead th {\n",
       "        text-align: right;\n",
       "    }\n",
       "</style>\n",
       "<table border=\"1\" class=\"dataframe\">\n",
       "  <thead>\n",
       "    <tr style=\"text-align: right;\">\n",
       "      <th></th>\n",
       "      <th>duration</th>\n",
       "      <th>price</th>\n",
       "    </tr>\n",
       "  </thead>\n",
       "  <tbody>\n",
       "    <tr>\n",
       "      <th>count</th>\n",
       "      <td>640.000000</td>\n",
       "      <td>640.000000</td>\n",
       "    </tr>\n",
       "    <tr>\n",
       "      <th>mean</th>\n",
       "      <td>639.773438</td>\n",
       "      <td>9075.418750</td>\n",
       "    </tr>\n",
       "    <tr>\n",
       "      <th>std</th>\n",
       "      <td>502.047906</td>\n",
       "      <td>4328.022872</td>\n",
       "    </tr>\n",
       "    <tr>\n",
       "      <th>min</th>\n",
       "      <td>75.000000</td>\n",
       "      <td>1965.000000</td>\n",
       "    </tr>\n",
       "    <tr>\n",
       "      <th>25%</th>\n",
       "      <td>175.000000</td>\n",
       "      <td>5636.250000</td>\n",
       "    </tr>\n",
       "    <tr>\n",
       "      <th>50%</th>\n",
       "      <td>505.000000</td>\n",
       "      <td>8372.000000</td>\n",
       "    </tr>\n",
       "    <tr>\n",
       "      <th>75%</th>\n",
       "      <td>956.250000</td>\n",
       "      <td>12386.750000</td>\n",
       "    </tr>\n",
       "    <tr>\n",
       "      <th>max</th>\n",
       "      <td>2565.000000</td>\n",
       "      <td>34273.000000</td>\n",
       "    </tr>\n",
       "  </tbody>\n",
       "</table>\n",
       "</div>"
      ],
      "text/plain": [
       "          duration         price\n",
       "count   640.000000    640.000000\n",
       "mean    639.773438   9075.418750\n",
       "std     502.047906   4328.022872\n",
       "min      75.000000   1965.000000\n",
       "25%     175.000000   5636.250000\n",
       "50%     505.000000   8372.000000\n",
       "75%     956.250000  12386.750000\n",
       "max    2565.000000  34273.000000"
      ]
     },
     "execution_count": 87,
     "metadata": {},
     "output_type": "execute_result"
    }
   ],
   "source": [
    "flights.describe(include=\"number\")"
   ]
  },
  {
   "cell_type": "markdown",
   "id": "040d7ff9-4f6e-4731-8206-3b9ab62322d3",
   "metadata": {},
   "source": [
    "# Univariate analysis"
   ]
  },
  {
   "cell_type": "markdown",
   "id": "055fc6d0-4261-41f5-8e1a-c3e4e922692e",
   "metadata": {},
   "source": [
    "#### Q1 Distribution of Price"
   ]
  },
  {
   "cell_type": "code",
   "execution_count": 152,
   "id": "8eeb6e10-16cd-44bb-8537-b90d75a42ff4",
   "metadata": {},
   "outputs": [
    {
     "data": {
      "text/plain": [
       "Text(0.5, 0, 'Price (INR)')"
      ]
     },
     "execution_count": 152,
     "metadata": {},
     "output_type": "execute_result"
    },
    {
     "data": {
      "image/png": "[encoded data removed]",
      "text/plain": [
       "<Figure size 720x432 with 1 Axes>"
      ]
     },
     "metadata": {
      "needs_background": "light"
     },
     "output_type": "display_data"
    }
   ],
   "source": [
    "# Basic statistics\n",
    "flights.price.describe()\n",
    "\n",
    "# Visualization\n",
    "import seaborn as sns\n",
    "import matplotlib.pyplot as plt\n",
    "\n",
    "plt.figure(figsize=(10, 6))\n",
    "sns.histplot(flights.price, bins=30)\n",
    "plt.title('Distribution of Flight Prices')\n",
    "plt.xlabel('Price (INR)')"
   ]
  },
  {
   "cell_type": "markdown",
   "id": "5090ae98-b41b-4045-8e39-7be3f558227c",
   "metadata": {},
   "source": [
    "#### Q2 Which airlines operate the most flights ?"
   ]
  },
  {
   "cell_type": "markdown",
   "id": "8d662b5e-56cc-42ee-9ca1-2a4fa0e4a2f3",
   "metadata": {},
   "source": [
    "Prices of Airplane is Right skewed "
   ]
  },
  {
   "cell_type": "code",
   "execution_count": 89,
   "id": "fd1c651d-17c9-43ab-abc4-723cb2b949a0",
   "metadata": {},
   "outputs": [
    {
     "data": {
      "text/plain": [
       "(array([0, 1, 2, 3, 4, 5, 6, 7]),\n",
       " [Text(0, 0, 'Jet Airways'),\n",
       "  Text(1, 0, 'Indigo'),\n",
       "  Text(2, 0, 'Air India'),\n",
       "  Text(3, 0, 'Multiple Carriers'),\n",
       "  Text(4, 0, 'Spicejet'),\n",
       "  Text(5, 0, 'Vistara'),\n",
       "  Text(6, 0, 'Air Asia'),\n",
       "  Text(7, 0, 'Goair')])"
      ]
     },
     "execution_count": 89,
     "metadata": {},
     "output_type": "execute_result"
    },
    {
     "data": {
      "image/png": "[encoded data removed]",
      "text/plain": [
       "<Figure size 432x288 with 1 Axes>"
      ]
     },
     "metadata": {
      "needs_background": "light"
     },
     "output_type": "display_data"
    }
   ],
   "source": [
    "flights.airline.value_counts().plot(kind='bar')\n",
    "plt.title('Number of Flights by Airline')\n",
    "plt.xticks(rotation=45)"
   ]
  },
  {
   "cell_type": "markdown",
   "id": "7a02cbe4-3093-4d74-988f-088f382c177b",
   "metadata": {},
   "source": [
    "#### Q3 Additinal info analysis\n"
   ]
  },
  {
   "cell_type": "code",
   "execution_count": 161,
   "id": "a411148c-7cd7-4b10-be9d-25a48609b347",
   "metadata": {},
   "outputs": [
    {
     "data": {
      "image/png": "[encoded data removed]",
      "text/plain": [
       "<Figure size 864x432 with 2 Axes>"
      ]
     },
     "metadata": {
      "needs_background": "light"
     },
     "output_type": "display_data"
    }
   ],
   "source": [
    "\n",
    "flight_counts = flights.additional_info.value_counts()\n",
    "\n",
    "\n",
    "num_classes = len(flight_counts)\n",
    "colors = np.random.rand(num_classes, 3)  # Generate random RGB colors\n",
    "\n",
    "# Step 3: Create subplots\n",
    "fig, axes = plt.subplots(1, 2, figsize=(12, 6))\n",
    "\n",
    "# Bar Chart\n",
    "flight_counts.plot(kind='bar', color=colors, ax=axes[0])\n",
    "axes[0].set_title('Number of Flights by Airline')\n",
    "axes[0].set_xlabel('Airlines')\n",
    "axes[0].set_ylabel('Number of Flights')\n",
    "axes[0].tick_params(axis='x', rotation=45)\n",
    "\n",
    "# Pie Chart\n",
    "axes[1].pie(flight_counts, labels=flight_counts.index, autopct='%1.1f%%', startangle=140, colors=colors)\n",
    "axes[1].set_title('Percentage of Flights by Airline')\n",
    "axes[1].axis('equal')\n",
    "\n",
    "# Show the plots\n",
    "plt.tight_layout()\n",
    "plt.show()"
   ]
  },
  {
   "cell_type": "markdown",
   "id": "11a64bd4-20da-4e51-bfd5-29269b0cca62",
   "metadata": {},
   "source": [
    "## Bivariate analysis"
   ]
  },
  {
   "cell_type": "markdown",
   "id": "f3296eeb-6528-4df0-a451-c563121ac268",
   "metadata": {},
   "source": [
    "#### Q1 How do prices vary across different airlines and is there any significance difference between them"
   ]
  },
  {
   "cell_type": "code",
   "execution_count": 90,
   "id": "7d09e03b-fb53-439a-9673-128de6dc3d5b",
   "metadata": {},
   "outputs": [
    {
     "data": {
      "image/png": "[encoded data removed]",
      "text/plain": [
       "<Figure size 864x432 with 1 Axes>"
      ]
     },
     "metadata": {
      "needs_background": "light"
     },
     "output_type": "display_data"
    },
    {
     "name": "stdout",
     "output_type": "stream",
     "text": [
      "ANOVA results: F-statistic = 42.46553777098078 , p-value = 3.970400260466922e-49\n",
      "Reject the null hypothesis. There is a significant difference in average prices across airlines.\n"
     ]
    }
   ],
   "source": [
    "import matplotlib.pyplot as plt\n",
    "import seaborn as sns\n",
    "from scipy import stats\n",
    "\n",
    "plt.figure(figsize=(12, 6))\n",
    "sns.boxplot(x='airline', y='price', data=flights)\n",
    "plt.xticks(rotation=45)\n",
    "plt.title('Price Distribution by Airline')\n",
    "plt.show()\n",
    "\n",
    "# Null Hypothesis (H0): The average prices of flights from all airlines are equal.\n",
    "# Alternative Hypothesis (H1): At least one airline has a different average price.\n",
    "\n",
    "anova_results = stats.f_oneway(*[group['price'].values for name, group in flights.groupby('airline')])\n",
    "\n",
    "\n",
    "print('ANOVA results: F-statistic =', anova_results.statistic, ', p-value =', anova_results.pvalue)\n",
    "\n",
    "alpha = 0.05  # Significance level\n",
    "\n",
    "if anova_results.pvalue < alpha:\n",
    "    conclusion = \"Reject the null hypothesis. There is a significant difference in average prices across airlines.\"\n",
    "else:\n",
    "    conclusion = \"Fail to reject the null hypothesis. There is no significant difference in average prices across airlines.\"\n",
    "\n",
    "print(conclusion)\n"
   ]
  },
  {
   "cell_type": "markdown",
   "id": "138f9afd-7002-4fa7-82a9-da88f5dd509f",
   "metadata": {},
   "source": [
    "#### Q2 Is there any correlation between Price and Duration "
   ]
  },
  {
   "cell_type": "code",
   "execution_count": 33,
   "id": "0374fc75-dfdb-4698-873a-736f4b00ffac",
   "metadata": {},
   "outputs": [
    {
     "data": {
      "image/png": "[encoded data removed]",
      "text/plain": [
       "<Figure size 864x432 with 1 Axes>"
      ]
     },
     "metadata": {
      "needs_background": "light"
     },
     "output_type": "display_data"
    },
    {
     "name": "stdout",
     "output_type": "stream",
     "text": [
      "Correlation coefficient between duration and price: 0.5542220697543229\n",
      "There is a positive correlation: as duration increases, price tends to increase.\n"
     ]
    }
   ],
   "source": [
    "import matplotlib.pyplot as plt\n",
    "import seaborn as sns\n",
    "\n",
    "# Step 1: Convert duration to minutes if needed\n",
    "# Assuming 'duration' is in the format \"HH:MM\"\n",
    "flights['duration_mins'] = flights.duration.astype(int)\n",
    "\n",
    "# Step 2: Visualize the relationship between price and duration using a scatter plot\n",
    "plt.figure(figsize=(12, 6))\n",
    "sns.scatterplot(data=flights, x='duration_mins', y='price')\n",
    "plt.title('Price vs Duration')\n",
    "plt.xlabel('Duration (minutes)')\n",
    "plt.ylabel('Price')\n",
    "plt.show()\n",
    "\n",
    "# Step 3: Calculate the correlation coefficient\n",
    "correlation_coefficient = flights['duration_mins'].corr(flights['price'])\n",
    "\n",
    "# Step 4: Print the correlation coefficient\n",
    "print('Correlation coefficient between duration and price:', correlation_coefficient)\n",
    "\n",
    "# Step 5: Interpret the correlation coefficient\n",
    "if correlation_coefficient > 0:\n",
    "    interpretation = \"There is a positive correlation: as duration increases, price tends to increase.\"\n",
    "elif correlation_coefficient < 0:\n",
    "    interpretation = \"There is a negative correlation: as duration increases, price tends to decrease.\"\n",
    "else:\n",
    "    interpretation = \"There is no correlation between duration and price.\"\n",
    "\n",
    "print(interpretation)\n"
   ]
  },
  {
   "cell_type": "markdown",
   "id": "01d53a80-855c-4a39-8ee4-89d133ae778f",
   "metadata": {},
   "source": [
    "#### Q4 Is there any significance relation between Time of day and Price of flight price"
   ]
  },
  {
   "cell_type": "code",
   "execution_count": 94,
   "id": "163e9e36-b3c9-4e93-a26b-5e65aa03ffec",
   "metadata": {},
   "outputs": [],
   "source": [
    "flights['dep_time'] = pd.to_datetime(flights['dep_time'])\n",
    "\n",
    "def categorize_time_of_day(time):\n",
    "    hour = time.hour\n",
    "    if 5 <= hour < 12:\n",
    "        return 'Morning'\n",
    "    elif 12 <= hour < 17:\n",
    "        return 'Afternoon'\n",
    "    elif 17 <= hour < 21:\n",
    "        return 'Evening'\n",
    "    else:\n",
    "        return 'Night'\n",
    "\n",
    "flights['time_of_day'] = flights['dep_time'].apply(categorize_time_of_day)\n"
   ]
  },
  {
   "cell_type": "code",
   "execution_count": 107,
   "id": "4e363ef8-5daa-4374-a66d-5040b930137f",
   "metadata": {},
   "outputs": [
    {
     "name": "stdout",
     "output_type": "stream",
     "text": [
      "T-statistic: 1.920843020797941\n",
      "P-value: 0.055485913512376576\n",
      "Fail to reject the null hypothesis: There is no significant difference in prices between Morning and Evening flights.\n"
     ]
    }
   ],
   "source": [
    "import pandas as pd\n",
    "from scipy import stats\n",
    "\n",
    "morning_prices = flights[flights['time_of_day'] == 'Morning']['price']\n",
    "evening_prices = flights[flights['time_of_day'] == 'Night']['price']\n",
    "\n",
    "\n",
    "t_statistic, p_value = stats.ttest_ind(morning_prices, evening_prices)\n",
    "\n",
    "print('T-statistic:', t_statistic)\n",
    "print('P-value:', p_value)\n",
    "\n",
    "alpha = 0.05  \n",
    "\n",
    "if p_value < alpha:\n",
    "    conclusion = \"Reject the null hypothesis: There is a significant difference in prices between Morning and Evening flights.\"\n",
    "else:\n",
    "    conclusion = \"Fail to reject the null hypothesis: There is no significant difference in prices between Morning and Evening flights.\"\n",
    "\n",
    "print(conclusion)\n"
   ]
  },
  {
   "cell_type": "markdown",
   "id": "eaecd6ad-5099-4c7e-94ac-0dd772062533",
   "metadata": {},
   "source": [
    "#### Q3 Is there any relation between price and total stops "
   ]
  },
  {
   "cell_type": "code",
   "execution_count": 108,
   "id": "0f6e6227-b8f9-4d81-92f0-46a61c486feb",
   "metadata": {},
   "outputs": [
    {
     "data": {
      "image/png": "[encoded data removed]",
      "text/plain": [
       "<Figure size 864x432 with 1 Axes>"
      ]
     },
     "metadata": {
      "needs_background": "light"
     },
     "output_type": "display_data"
    },
    {
     "name": "stdout",
     "output_type": "stream",
     "text": [
      "F-statistic: 169.41299311401582\n",
      "P-value: 1.0467553676819972e-80\n",
      "Reject the null hypothesis: There is a significant difference in prices between different numbers of stops.\n"
     ]
    }
   ],
   "source": [
    "import pandas as pd\n",
    "import seaborn as sns\n",
    "import matplotlib.pyplot as plt\n",
    "from scipy import stats\n",
    "\n",
    "# Sample DataFrame structure (you can replace this with your actual DataFrame)\n",
    "# flights = pd.DataFrame({\n",
    "#     'price': [100, 150, 200, 250, 300, ...],  # Prices of the flights\n",
    "#     'total_stops': [0, 1, 2, 0, 1, ...]       # Total number of stops (0, 1, 2, etc.)\n",
    "# })\n",
    "\n",
    "# Step 1: Create a box plot to visualize price distribution by total stops\n",
    "plt.figure(figsize=(12, 6))\n",
    "sns.boxplot(x='total_stops', y='price', data=flights)\n",
    "plt.title('Price Distribution by Total Stops')\n",
    "plt.xlabel('Total Stops')\n",
    "plt.ylabel('Price')\n",
    "plt.show()\n",
    "\n",
    "# Step 2: Prepare data for ANOVA\n",
    "# Group the prices by total stops\n",
    "groups = [group['price'].values for name, group in flights.groupby('total_stops')]\n",
    "\n",
    "# Step 3: Conduct ANOVA\n",
    "f_statistic, p_value = stats.f_oneway(*groups)\n",
    "\n",
    "# Step 4: Print the ANOVA results\n",
    "print('F-statistic:', f_statistic)\n",
    "print('P-value:', p_value)\n",
    "\n",
    "# Step 5: Interpretation of the ANOVA results\n",
    "alpha = 0.05  # Common significance level\n",
    "\n",
    "if p_value < alpha:\n",
    "    conclusion = \"Reject the null hypothesis: There is a significant difference in prices between different numbers of stops.\"\n",
    "else:\n",
    "    conclusion = \"Fail to reject the null hypothesis: There is no significant difference in prices between different numbers of stops.\"\n",
    "\n",
    "print(conclusion)\n"
   ]
  },
  {
   "cell_type": "markdown",
   "id": "433efbff-cebf-4a92-b1e0-918186ddb27a",
   "metadata": {},
   "source": [
    "#### Q4 Analysis of Price with Total_stops and Distance"
   ]
  },
  {
   "cell_type": "code",
   "execution_count": 109,
   "id": "40d598be-d78c-4b69-b762-77953da8a69c",
   "metadata": {},
   "outputs": [
    {
     "name": "stdout",
     "output_type": "stream",
     "text": [
      "Correlation coefficient: 0.6328030534509105\n"
     ]
    }
   ],
   "source": [
    "# Convert total_stops to numeric if it's not already\n",
    "flights['total_stops'] = pd.to_numeric(flights['total_stops'], errors='coerce')\n",
    "\n",
    "# Calculate correlation\n",
    "correlation = flights['total_stops'].corr(flights['price'])\n",
    "print('Correlation coefficient:', correlation)\n"
   ]
  },
  {
   "cell_type": "code",
   "execution_count": 116,
   "id": "5fc3edc2-a82a-4ae6-9bbf-1e7f4240ca05",
   "metadata": {},
   "outputs": [
    {
     "data": {
      "text/plain": [
       "array(['Hyderabad', 'Cochin', 'Banglore', 'Delhi', 'New Delhi', 'Kolkata'],\n",
       "      dtype=object)"
      ]
     },
     "execution_count": 116,
     "metadata": {},
     "output_type": "execute_result"
    }
   ],
   "source": [
    "flights['source'].unique()\n",
    "flights['destination'].unique()"
   ]
  },
  {
   "cell_type": "code",
   "execution_count": 139,
   "id": "09a0e1ae-0efc-440d-9f82-9c6aca8d510b",
   "metadata": {},
   "outputs": [],
   "source": [
    "import pandas as pd\n",
    "from geopy.distance import great_circle\n",
    "\n",
    "coordinates = {\n",
    "    'Hyderabad': (17.385044, 78.486671),\n",
    "    'Cochin': (9.931233, 76.267303),\n",
    "    'Banglore': (12.971599, 77.594566),\n",
    "    'Delhi': (28.613939, 77.209021),\n",
    "    'New Delhi': (28.613939, 77.209021),\n",
    "    'Kolkata': (22.572646, 88.363895),\n",
    "    'Mumbai' : (19.0760, 72.877),\n",
    "    'Chennai' : (13.0843, 80.2705)\n",
    "}\n",
    "\n",
    "def calculate_distance(row):\n",
    "    source_coords = coordinates[row['source']]\n",
    "    destination_coords = coordinates[row['destination']]\n",
    "    return great_circle(source_coords, destination_coords).kilometers\n",
    "\n",
    "# Step 3: Apply the function to calculate distances\n",
    "flights['total_distance'] = flights.apply(calculate_distance, axis=1)\n"
   ]
  },
  {
   "cell_type": "code",
   "execution_count": 165,
   "id": "d6a57391-a7c3-48f1-9e8c-61b011745b79",
   "metadata": {},
   "outputs": [
    {
     "name": "stdout",
     "output_type": "stream",
     "text": [
      "ANOVA Results:\n",
      "F-statistic: 169.41299311401582\n",
      "p-value: 1.0467553676819972e-80\n",
      "Reject the null hypothesis: There is a significant difference in price based on total stops.\n"
     ]
    }
   ],
   "source": [
    "# One way anova for Total stops and Price\n",
    "flights['total_stops'] = flights['total_stops'].astype('object')\n",
    "\n",
    "\n",
    "groups = [group['price'].values for name, group in flights.groupby('total_stops')]\n",
    "\n",
    "\n",
    "anova_result = stats.f_oneway(*groups)\n",
    "\n",
    "\n",
    "print('ANOVA Results:')\n",
    "print('F-statistic:', anova_result.statistic)\n",
    "print('p-value:', anova_result.pvalue)\n",
    "\n",
    "\n",
    "alpha = 0.05\n",
    "if anova_result.pvalue < alpha:\n",
    "    print(\"Reject the null hypothesis: There is a significant difference in price based on total stops.\")\n",
    "else:\n",
    "    print(\"Fail to reject the null hypothesis: No significant difference in price based on total stops.\")\n"
   ]
  },
  {
   "cell_type": "code",
   "execution_count": 166,
   "id": "1a31015b-6fcc-420c-a178-f4cd75209c36",
   "metadata": {},
   "outputs": [
    {
     "data": {
      "text/plain": [
       "[621.529712, 2079.746773, 1560.704520, 1739.808876, 1358.239134]\n",
       "Categories (5, float64): [621.529712, 1358.239134, 1560.704520, 1739.808876, 2079.746773]"
      ]
     },
     "execution_count": 166,
     "metadata": {},
     "output_type": "execute_result"
    }
   ],
   "source": [
    "flights['total_distance'].unique()"
   ]
  },
  {
   "cell_type": "code",
   "execution_count": 150,
   "id": "32e47a28-c9fd-4096-95bb-aecbf7db82d7",
   "metadata": {},
   "outputs": [
    {
     "name": "stdout",
     "output_type": "stream",
     "text": [
      "                                        sum_sq     df          F        PR(>F)\n",
      "C(total_stops)                    5.099274e+08    3.0  16.962517  1.333613e-10\n",
      "C(total_distance)                 4.125450e+07    4.0   1.029235  3.107323e-01\n",
      "C(total_stops):C(total_distance)  2.348681e+08   12.0   1.953196  4.236049e-02\n",
      "Residual                          6.242878e+09  623.0        NaN           NaN\n"
     ]
    },
    {
     "name": "stderr",
     "output_type": "stream",
     "text": [
      "/home/shubham/.local/lib/python3.10/site-packages/statsmodels/base/model.py:1894: ValueWarning: covariance of constraints does not have full rank. The number of constraints is 4, but rank is 1\n",
      "  warnings.warn('covariance of constraints does not have full '\n",
      "/home/shubham/.local/lib/python3.10/site-packages/statsmodels/base/model.py:1894: ValueWarning: covariance of constraints does not have full rank. The number of constraints is 12, but rank is 9\n",
      "  warnings.warn('covariance of constraints does not have full '\n"
     ]
    }
   ],
   "source": [
    "# Two way anova for totalstops and Distance with Price\n",
    "\n",
    "import statsmodels.api as sm\n",
    "from statsmodels.formula.api import ols\n",
    "# Convert total_stops and total_distance to categorical\n",
    "flights['total_stops'] = flights['total_stops'].astype('category')\n",
    "flights['total_distance'] = flights['total_distance'].astype('category')\n",
    "\n",
    "# Step 2: Perform two-way ANOVA\n",
    "model = ols('price ~ C(total_stops) + C(total_distance) + C(total_stops):C(total_distance)', data=flights).fit()\n",
    "anova_table = sm.stats.anova_lm(model, typ=2)\n",
    "\n",
    "# Step 3: Display ANOVA results\n",
    "print(anova_table)"
   ]
  },
  {
   "cell_type": "markdown",
   "id": "6f36c9fe-7f0d-4bd9-bf20-6a0d3ae0e63e",
   "metadata": {},
   "source": [
    "The two-way ANOVA results indicate that the number of total stops has a significant impact on flight prices, with a p-value of \n",
    "0.000000013 suggesting that variations in the number of stops are associated with differences in price. In contrast, total distance does not significantly influence prices, as indicated by a p-value of \n",
    "0.3107. However, there is a significant interaction between total stops and total distance (p-value 0.0424), meaning the effect of the number of stops on price varies depending on the distance. This analysis suggests that while the number of stops is a crucial factor in determining flight prices, the relationship is further influenced by the distance of the flights."
   ]
  },
  {
   "cell_type": "code",
   "execution_count": 163,
   "id": "e85db071-2d6b-43d6-98b7-d8ead270cd73",
   "metadata": {},
   "outputs": [
    {
     "name": "stdout",
     "output_type": "stream",
     "text": [
      "    Multiple Comparison of Means - Tukey HSD, FWER=0.05    \n",
      "===========================================================\n",
      "group1 group2  meandiff p-adj    lower      upper    reject\n",
      "-----------------------------------------------------------\n",
      "   0.0    1.0 5604.8366    0.0  4881.2408  6328.4323   True\n",
      "   0.0    2.0 7536.3138    0.0  6400.6071  8672.0205   True\n",
      "   0.0    3.0 9110.2582    0.0  4905.8015 13314.7149   True\n",
      "   1.0    2.0 1931.4772    0.0   853.6474   3009.307   True\n",
      "   1.0    3.0 3505.4217  0.137   -683.772  7694.6153  False\n",
      "   2.0    3.0 1573.9444 0.7793 -2705.7264  5853.6153  False\n",
      "-----------------------------------------------------------\n"
     ]
    }
   ],
   "source": [
    "# post-hoc analysis with tukey's HSD to test which specific gropups of total_stops differ significantyly in their means\n",
    "\n",
    "from statsmodels.formula.api import ols\n",
    "from statsmodels.stats.multicomp import pairwise_tukeyhsd\n",
    "model = ols('price ~ C(total_stops)', data=flights).fit()\n",
    "\n",
    "# Perform Tukey's HSD test\n",
    "tukey = pairwise_tukeyhsd(endog=flights['price'], groups=flights['total_stops'], alpha=0.05)\n",
    "\n",
    "# Print the results\n",
    "print(tukey)"
   ]
  },
  {
   "cell_type": "markdown",
   "id": "97418a72-84a1-4cdd-8f5f-6b13d707d31c",
   "metadata": {},
   "source": [
    "the results indicate that having fewer stops (0 vs. 1 or 2) is associated with significantly higher prices. However, the differences between 1 and 3 stops, as well as between 2 and 3 stops, are not statistically significant. This suggests that while fewer stops tend to lead to higher prices, the effect diminishes as the number of stops increases beyond one."
   ]
  },
  {
   "cell_type": "markdown",
   "id": "f951d77d-9a1c-4eaa-b685-1edf980e2a10",
   "metadata": {},
   "source": [
    "#### Q5  Is there a significant association between the airline and the number of total stops? Analysis: This test will help determine if certain airlines tend to have more flights with specific numbers of stops, indicating a potential preference or operational strategy.\n"
   ]
  },
  {
   "cell_type": "code",
   "execution_count": null,
   "id": "55432efd-a3eb-4a09-a44d-cbf4c84d5410",
   "metadata": {},
   "outputs": [],
   "source": [
    "import pandas as pd\n",
    "import matplotlib.pyplot as plt\n",
    "import seaborn as sns\n",
    "from scipy.stats import chi2_contingency\n",
    "\n",
    "# Sample data preparation (replace this with your actual DataFrame)\n",
    "# Assuming 'flights' is your DataFrame\n",
    "\n",
    "# Step 1: Create a contingency table\n",
    "contingency_table = pd.crosstab(flights['airline'], flights['total_stops'])\n",
    "\n",
    "# Step 2: Perform Chi-Square test\n",
    "chi2, p, dof, expected = chi2_contingency(contingency_table)\n",
    "\n",
    "# Step 3: Output the results\n",
    "print(f\"Chi-Square Statistic: {chi2}\")\n",
    "print(f\"P-value: {p}\")\n",
    "print(f\"Degrees of Freedom: {dof}\")\n",
    "\n",
    "# Step 4: Interpretation\n",
    "alpha = 0.05  # Significance level\n",
    "if p < alpha:\n",
    "    print(\"Reject the null hypothesis: There is a significant association between airline and total stops.\")\n",
    "else:\n",
    "    print(\"Fail to reject the null hypothesis: No significant association between airline and total stops.\")\n",
    "\n",
    "# Step 5: Visualization\n",
    "plt.figure(figsize=(12, 6))\n",
    "\n",
    "# Stacked Bar Chart\n",
    "contingency_table.plot(kind='bar', colormap='tab10', ax=plt.gca())\n",
    "plt.title('Number of Flights by Airline and Total Stops')\n",
    "plt.xlabel('Airline')\n",
    "plt.ylabel('Number of Flights')\n",
    "plt.xticks(rotation=45)\n",
    "plt.legend(title='Total Stops')\n",
    "plt.tight_layout()\n",
    "plt.show()\n"
   ]
  },
  {
   "cell_type": "markdown",
   "id": "d1d1e506-ef4f-4d13-a64f-efb50d228649",
   "metadata": {},
   "source": [
    "#### Relationship Between Source and Destination\n",
    "Question: Is there a significant association between the source and the destination of flights?\n",
    "\n",
    "Variables:\n",
    "Categorical: source (departure locations) and destination (arrival locations)\n",
    "Analysis: This test will show if certain sources are more commonly associated with specific destinations, which can be useful for route planning and marketing strategies."
   ]
  },
  {
   "cell_type": "code",
   "execution_count": 172,
   "id": "31ad8b8e-0a5f-48b1-915c-827810ff5257",
   "metadata": {},
   "outputs": [
    {
     "name": "stdout",
     "output_type": "stream",
     "text": [
      "Chi-Square Statistic: 2560.0\n",
      "P-value: 0.0\n",
      "Reject the null hypothesis: There is a significant association between source and destination.\n"
     ]
    },
    {
     "data": {
      "image/png": "[encoded data removed]",
      "text/plain": [
       "<Figure size 864x432 with 1 Axes>"
      ]
     },
     "metadata": {
      "needs_background": "light"
     },
     "output_type": "display_data"
    }
   ],
   "source": [
    "import pandas as pd\n",
    "import matplotlib.pyplot as plt\n",
    "import seaborn as sns\n",
    "from scipy.stats import chi2_contingency\n",
    "\n",
    "# Sample data preparation (replace this with your actual DataFrame)\n",
    "# Assuming 'flights' is your DataFrame\n",
    "\n",
    "# Step 1: Create a contingency table\n",
    "contingency_table_source_destination = pd.crosstab(flights['source'], flights['destination'])\n",
    "\n",
    "# Step 2: Perform Chi-Square test\n",
    "chi2, p, dof, expected = chi2_contingency(contingency_table_source_destination)\n",
    "\n",
    "# Step 3: Output the results\n",
    "print(f\"Chi-Square Statistic: {chi2}\")\n",
    "print(f\"P-value: {p}\")\n",
    "\n",
    "\n",
    "# Step 4: Interpretation\n",
    "alpha = 0.05  # Significance level\n",
    "if p < alpha:\n",
    "    print(\"Reject the null hypothesis: There is a significant association between source and destination.\")\n",
    "else:\n",
    "    print(\"Fail to reject the null hypothesis: No significant association between source and destination.\")\n",
    "\n",
    "# Step 5: Visualization\n",
    "plt.figure(figsize=(12, 6))\n",
    "\n",
    "# Stacked Bar Chart\n",
    "contingency_table_source_destination.plot(kind='bar', stacked=True, colormap='tab10', ax=plt.gca())\n",
    "plt.title('Number of Flights by Source and Destination')\n",
    "plt.xlabel('Source')\n",
    "plt.ylabel('Number of Flights')\n",
    "plt.xticks(rotation=45)\n",
    "plt.legend(title='Destination')\n",
    "plt.tight_layout()\n",
    "plt.show()\n",
    "\n",
    "# There a lot of flight from delhi to Cochin"
   ]
  },
  {
   "cell_type": "markdown",
   "id": "27cd03ec-207d-4892-ab0f-355646f9b0ec",
   "metadata": {},
   "source": [
    "#### Relationship Between Time of Day and Total StopsQuestion: Is there a significant association between the time of day and the number of total stops? Variables: Categorical: time_of_day (Morning, Afternoon, Evening, Night) and total_stops (0, 1, 2, etc.) Analysis: This will help you understand if flight schedules with more stops are concentrated in particular times of day, which could affect operational efficiency."
   ]
  },
  {
   "cell_type": "code",
   "execution_count": 173,
   "id": "a8effa09-18c4-44fd-8611-5365dd5e046a",
   "metadata": {},
   "outputs": [
    {
     "name": "stdout",
     "output_type": "stream",
     "text": [
      "Chi-Square Statistic: 16.693051933847624\n",
      "P-value: 0.05374541861265045\n",
      "Fail to reject the null hypothesis: No significant association between time of day and total stops.\n"
     ]
    },
    {
     "data": {
      "image/png": "[encoded data removed]",
      "text/plain": [
       "<Figure size 864x432 with 1 Axes>"
      ]
     },
     "metadata": {
      "needs_background": "light"
     },
     "output_type": "display_data"
    }
   ],
   "source": [
    "import pandas as pd\n",
    "import matplotlib.pyplot as plt\n",
    "import seaborn as sns\n",
    "from scipy.stats import chi2_contingency\n",
    "\n",
    "# Sample data preparation (replace this with your actual DataFrame)\n",
    "# Assuming 'flights' is your DataFrame\n",
    "\n",
    "# Step 1: Create a contingency table\n",
    "contingency_table_time_stops = pd.crosstab(flights['time_of_day'], flights['total_stops'])\n",
    "\n",
    "# Step 2: Perform Chi-Square test\n",
    "chi2, p, dof, expected = chi2_contingency(contingency_table_time_stops)\n",
    "\n",
    "# Step 3: Output the results\n",
    "print(f\"Chi-Square Statistic: {chi2}\")\n",
    "print(f\"P-value: {p}\")\n",
    "\n",
    "\n",
    "# Step 4: Interpretation\n",
    "alpha = 0.05  # Significance level\n",
    "if p < alpha:\n",
    "    print(\"Reject the null hypothesis: There is a significant association between time of day and total stops.\")\n",
    "else:\n",
    "    print(\"Fail to reject the null hypothesis: No significant association between time of day and total stops.\")\n",
    "\n",
    "# Step 5: Visualization\n",
    "plt.figure(figsize=(12, 6))\n",
    "\n",
    "# Stacked Bar Chart\n",
    "contingency_table_time_stops.plot(kind='bar', stacked=True, colormap='tab10', ax=plt.gca())\n",
    "plt.title('Number of Flights by Time of Day and Total Stops')\n",
    "plt.xlabel('Time of Day')\n",
    "plt.ylabel('Number of Flights')\n",
    "plt.xticks(rotation=45)\n",
    "plt.legend(title='Total Stops')\n",
    "plt.tight_layout()\n",
    "plt.show()\n",
    "\n",
    "# There a lot of Stops in Morning fligts"
   ]
  },
  {
   "cell_type": "markdown",
   "id": "e2e573df-f4bb-4f09-b978-864680963966",
   "metadata": {},
   "source": [
    "#### Relationship Between Price and Total Stops (Categorical Binning) If you categorize prices into bins (e.g., Low, Medium, High), you could analyze: Question: Is there a significant association between categorized price and total stops? Variables: Categorical: Price bins (created from the price variable) and total_stops Analysis: This will provide insights into how pricing strategies might differ based on the number of stops, helping in revenue management."
   ]
  },
  {
   "cell_type": "code",
   "execution_count": 184,
   "id": "051e1889-f853-42e7-84f2-0b045ef1daf7",
   "metadata": {},
   "outputs": [
    {
     "name": "stdout",
     "output_type": "stream",
     "text": [
      "Chi-Square Statistic: 134.22317272308356\n",
      "P-value: 4.864400974427427e-28\n",
      "Reject the null hypothesis: There is a significant association between categorized price and total stops.\n"
     ]
    },
    {
     "data": {
      "image/png": "[encoded data removed]",
      "text/plain": [
       "<Figure size 864x432 with 1 Axes>"
      ]
     },
     "metadata": {
      "needs_background": "light"
     },
     "output_type": "display_data"
    }
   ],
   "source": [
    "import pandas as pd\n",
    "import matplotlib.pyplot as plt\n",
    "import seaborn as sns\n",
    "from scipy.stats import chi2_contingency\n",
    "\n",
    "# Sample data preparation (replace this with your actual DataFrame)\n",
    "# Assuming 'flights' is your DataFrame\n",
    "\n",
    "\n",
    "\n",
    "# Step 2: Create a contingency table\n",
    "contingency_table_price_stops = pd.crosstab(flights['price_bins'], flights['total_stops'])\n",
    "\n",
    "# Step 3: Perform Chi-Square test\n",
    "chi2, p, dof, expected = chi2_contingency(contingency_table_price_stops)\n",
    "\n",
    "# Step 4: Output the results\n",
    "print(f\"Chi-Square Statistic: {chi2}\")\n",
    "print(f\"P-value: {p}\")\n",
    "\n",
    "# Step 5: Interpretation\n",
    "alpha = 0.05  # Significance level\n",
    "if p < alpha:\n",
    "    print(\"Reject the null hypothesis: There is a significant association between categorized price and total stops.\")\n",
    "else:\n",
    "    print(\"Fail to reject the null hypothesis: No significant association between categorized price and total stops.\")\n",
    "\n",
    "# Step 6: Visualization\n",
    "plt.figure(figsize=(12, 6))\n",
    "\n",
    "# Stacked Bar Chart\n",
    "contingency_table_price_stops.plot(kind='bar', stacked=True, colormap='tab10', ax=plt.gca())\n",
    "plt.title('Number of Flights by Price Bins and Total Stops')\n",
    "plt.xlabel('Price Bins')\n",
    "plt.ylabel('Number of Flights')\n",
    "plt.xticks(rotation=45)\n",
    "plt.legend(title='Total Stops')\n",
    "plt.tight_layout()\n",
    "plt.show()\n"
   ]
  },
  {
   "cell_type": "code",
   "execution_count": 186,
   "id": "9b2d5d7b-7776-4eff-9bb4-d1ae0ebb6cb7",
   "metadata": {},
   "outputs": [
    {
     "name": "stdout",
     "output_type": "stream",
     "text": [
      "<class 'pandas.core.frame.DataFrame'>\n",
      "RangeIndex: 640 entries, 0 to 639\n",
      "Data columns (total 15 columns):\n",
      " #   Column           Non-Null Count  Dtype         \n",
      "---  ------           --------------  -----         \n",
      " 0   airline          640 non-null    object        \n",
      " 1   date_of_journey  640 non-null    datetime64[ns]\n",
      " 2   source           640 non-null    object        \n",
      " 3   destination      640 non-null    object        \n",
      " 4   dep_time         640 non-null    datetime64[ns]\n",
      " 5   arrival_time     640 non-null    datetime64[ns]\n",
      " 6   duration         640 non-null    int64         \n",
      " 7   total_stops      640 non-null    object        \n",
      " 8   additional_info  640 non-null    object        \n",
      " 9   price            640 non-null    int64         \n",
      " 10  time_of_day      640 non-null    object        \n",
      " 11  total_distance   640 non-null    category      \n",
      " 12  price_bins       375 non-null    category      \n",
      " 13  price_category   640 non-null    object        \n",
      " 14  price_color      640 non-null    object        \n",
      "dtypes: category(2), datetime64[ns](3), int64(2), object(8)\n",
      "memory usage: 66.7+ KB\n"
     ]
    }
   ],
   "source": [
    "flights.info()"
   ]
  },
  {
   "cell_type": "code",
   "execution_count": 196,
   "id": "f7322c80-d3bc-4a96-8c76-b694743426f8",
   "metadata": {},
   "outputs": [
    {
     "name": "stdout",
     "output_type": "stream",
     "text": [
      "Mean Absolute Error: 1679.3919164221206\n",
      "R-squared: 0.6837321763226948\n",
      "                                              Coefficient\n",
      "duration                                         0.691652\n",
      "total_distance                                   2.110170\n",
      "airline_Air India                             2002.699631\n",
      "airline_Goair                                 1313.714056\n",
      "airline_Indigo                                 728.753780\n",
      "airline_Jet Airways                           6107.268138\n",
      "airline_Multiple Carriers                     3834.468986\n",
      "airline_Spicejet                               176.359297\n",
      "airline_Vistara                               2055.157941\n",
      "source_Chennai                                -157.154695\n",
      "source_Delhi                                  -429.177478\n",
      "source_Kolkata                                  12.561297\n",
      "source_Mumbai                                  -78.853393\n",
      "destination_Cochin                            -429.177478\n",
      "destination_Delhi                            -1292.546356\n",
      "destination_Hyderabad                          -78.853393\n",
      "destination_Kolkata                           -157.154695\n",
      "destination_New Delhi                         1945.170625\n",
      "total_stops_1.0                               2903.270372\n",
      "total_stops_2.0                               4913.302242\n",
      "total_stops_3.0                               6145.682589\n",
      "time_of_day_Evening                           -248.065479\n",
      "time_of_day_Morning                           -219.461677\n",
      "time_of_day_Night                               95.619971\n",
      "additional_info_In-flight meal not included  -2585.983096\n",
      "additional_info_No Info                       1134.623262\n",
      "additional_info_No check-in baggage included  1451.359834\n"
     ]
    }
   ],
   "source": [
    "import pandas as pd\n",
    "import numpy as np\n",
    "from sklearn.model_selection import train_test_split\n",
    "from sklearn.linear_model import LinearRegression\n",
    "from sklearn.metrics import mean_absolute_error, r2_score\n",
    "\n",
    "# Sample data preparation (replace this with your actual DataFrame)\n",
    "# Assuming 'flights' is your DataFrame\n",
    "\n",
    "# Step 1: Data Preparation\n",
    "# Convert categorical variables to numerical using one-hot encoding\n",
    "flights_encoded = pd.get_dummies(flights, columns=['airline', 'source', 'destination', 'total_stops', 'time_of_day', 'additional_info'], drop_first=True)\n",
    "\n",
    "# Define features (X) and target variable (y)\n",
    "X = flights_encoded.drop(columns=['price', 'date_of_journey', 'dep_time', 'arrival_time', 'price_bins' , 'price_category' , 'price_color'])  # Exclude non-predictive columns\n",
    "y = flights_encoded['price']\n",
    "\n",
    "# Step 2: Split the dataset into training and testing sets\n",
    "X_train, X_test, y_train, y_test = train_test_split(X, y, test_size=0.2, random_state=42)\n",
    "\n",
    "\n",
    "\n",
    "\n",
    "# Step 3: Model Training\n",
    "model = LinearRegression()\n",
    "model.fit(X_train, y_train)\n",
    "\n",
    "# Step 4: Predictions\n",
    "y_pred = model.predict(X_test)\n",
    "\n",
    "# Step 5: Model Evaluation\n",
    "mae = mean_absolute_error(y_test, y_pred)\n",
    "r2 = r2_score(y_test, y_pred)\n",
    "\n",
    "print(f'Mean Absolute Error: {mae}')\n",
    "print(f'R-squared: {r2}')\n",
    "\n",
    "# Optional: Display model coefficients for interpretation\n",
    "coefficients = pd.DataFrame(model.coef_, X.columns, columns=['Coefficient'])\n",
    "print(coefficients)\n"
   ]
  },
  {
   "cell_type": "markdown",
   "id": "2f13bf1d-5d5e-4fcf-b4bf-306105871444",
   "metadata": {},
   "source": [
    "The linear regression model for predicting flight prices has an R-squared value of approximately 0.68, indicating that about 68% of the variance in flight prices can be explained by the model. The Mean Absolute Error (MAE) is around 1,679, suggesting that, on average, the model's price predictions deviate from actual prices by this amount. Notable coefficients include the airline \"Jet Airways,\" which has a substantial positive influence on price, adding approximately 6,107 to the base price, while \"Air India\" and \"Multiple Carriers\" also contribute significantly. The variable for total stops shows a positive relationship, with each additional stop increasing the price by about 2,900 to 6,145, depending on the number of stops. The model also indicates that flight sources and destinations can significantly affect prices, with some sources like \"Delhi\" and \"Chennai\" resulting in lower predicted prices. Lastly, additional information, such as the presence of in-flight meals, tends to decrease prices, emphasizing the importance of service features in pricing strategies."
   ]
  }
 ],
 "metadata": {
  "kernelspec": {
   "display_name": "Python 3 (ipykernel)",
   "language": "python",
   "name": "python3"
  },
  "language_info": {
   "codemirror_mode": {
    "name": "ipython",
    "version": 3
   },
   "file_extension": ".py",
   "mimetype": "text/x-python",
   "name": "python",
   "nbconvert_exporter": "python",
   "pygments_lexer": "ipython3",
   "version": "3.10.12"
  }
 },
 "nbformat": 4,
 "nbformat_minor": 5
}
